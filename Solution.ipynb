{
  "nbformat": 4,
  "nbformat_minor": 0,
  "metadata": {
    "colab": {
      "name": "ds_techchallenge.ipynb",
      "provenance": [],
      "collapsed_sections": []
    },
    "kernelspec": {
      "name": "python3",
      "display_name": "Python 3"
    },
    "language_info": {
      "name": "python"
    }
  },
  "cells": [
    {
      "cell_type": "code",
      "metadata": {
        "colab": {
          "base_uri": "https://localhost:8080/"
        },
        "id": "lhnY0ZzVBsum",
        "outputId": "0b55924b-224d-460a-e27e-500eb092c32d"
      },
      "source": [
        "!pip install surprise\n"
      ],
      "execution_count": 2,
      "outputs": [
        {
          "output_type": "stream",
          "text": [
            "Collecting surprise\n",
            "  Downloading https://files.pythonhosted.org/packages/61/de/e5cba8682201fcf9c3719a6fdda95693468ed061945493dea2dd37c5618b/surprise-0.1-py2.py3-none-any.whl\n",
            "Collecting scikit-surprise\n",
            "\u001b[?25l  Downloading https://files.pythonhosted.org/packages/97/37/5d334adaf5ddd65da99fc65f6507e0e4599d092ba048f4302fe8775619e8/scikit-surprise-1.1.1.tar.gz (11.8MB)\n",
            "\u001b[K     |████████████████████████████████| 11.8MB 14.1MB/s \n",
            "\u001b[?25hRequirement already satisfied: joblib>=0.11 in /usr/local/lib/python3.7/dist-packages (from scikit-surprise->surprise) (1.0.1)\n",
            "Requirement already satisfied: numpy>=1.11.2 in /usr/local/lib/python3.7/dist-packages (from scikit-surprise->surprise) (1.19.5)\n",
            "Requirement already satisfied: scipy>=1.0.0 in /usr/local/lib/python3.7/dist-packages (from scikit-surprise->surprise) (1.4.1)\n",
            "Requirement already satisfied: six>=1.10.0 in /usr/local/lib/python3.7/dist-packages (from scikit-surprise->surprise) (1.15.0)\n",
            "Building wheels for collected packages: scikit-surprise\n",
            "  Building wheel for scikit-surprise (setup.py) ... \u001b[?25l\u001b[?25hdone\n",
            "  Created wheel for scikit-surprise: filename=scikit_surprise-1.1.1-cp37-cp37m-linux_x86_64.whl size=1617614 sha256=ec7b85f2b230d364803895d333e11d7615f65496dbd995a1da242628b3cd042c\n",
            "  Stored in directory: /root/.cache/pip/wheels/78/9c/3d/41b419c9d2aff5b6e2b4c0fc8d25c538202834058f9ed110d0\n",
            "Successfully built scikit-surprise\n",
            "Installing collected packages: scikit-surprise, surprise\n",
            "Successfully installed scikit-surprise-1.1.1 surprise-0.1\n"
          ],
          "name": "stdout"
        }
      ]
    },
    {
      "cell_type": "code",
      "metadata": {
        "id": "DXS5M32HAbhZ"
      },
      "source": [
        "import numpy as np\n",
        "import pandas as pd\n",
        "import matplotlib.pyplot as plt\n",
        "import seaborn as sns\n",
        "%matplotlib inline\n",
        "from surprise import SVD, Reader, Dataset , accuracy\n",
        "from surprise.model_selection import cross_validate\n",
        "from surprise.prediction_algorithms import knns\n",
        "from surprise.similarities import cosine, msd, pearson\n",
        "from surprise.model_selection import cross_validate\n",
        "from surprise.prediction_algorithms import KNNWithMeans, KNNBasic, KNNBaseline\n",
        "from surprise.model_selection import GridSearchCV"
      ],
      "execution_count": 133,
      "outputs": []
    },
    {
      "cell_type": "code",
      "metadata": {
        "colab": {
          "base_uri": "https://localhost:8080/",
          "height": 204
        },
        "id": "xjjzXJr9CJY9",
        "outputId": "7b445c73-77de-4bf0-8509-ec86ed9c7049"
      },
      "source": [
        "elecdf=pd.read_csv('./electronics.csv')\n",
        "elecdf.head()"
      ],
      "execution_count": 8,
      "outputs": [
        {
          "output_type": "execute_result",
          "data": {
            "text/html": [
              "<div>\n",
              "<style scoped>\n",
              "    .dataframe tbody tr th:only-of-type {\n",
              "        vertical-align: middle;\n",
              "    }\n",
              "\n",
              "    .dataframe tbody tr th {\n",
              "        vertical-align: top;\n",
              "    }\n",
              "\n",
              "    .dataframe thead th {\n",
              "        text-align: right;\n",
              "    }\n",
              "</style>\n",
              "<table border=\"1\" class=\"dataframe\">\n",
              "  <thead>\n",
              "    <tr style=\"text-align: right;\">\n",
              "      <th></th>\n",
              "      <th>item_id</th>\n",
              "      <th>user_id</th>\n",
              "      <th>rating</th>\n",
              "      <th>timestamp</th>\n",
              "      <th>model_attr</th>\n",
              "      <th>category</th>\n",
              "      <th>brand</th>\n",
              "      <th>year</th>\n",
              "      <th>user_attr</th>\n",
              "      <th>split</th>\n",
              "    </tr>\n",
              "  </thead>\n",
              "  <tbody>\n",
              "    <tr>\n",
              "      <th>0</th>\n",
              "      <td>0</td>\n",
              "      <td>0</td>\n",
              "      <td>5.0</td>\n",
              "      <td>1999-06-13</td>\n",
              "      <td>Female</td>\n",
              "      <td>Portable Audio &amp; Video</td>\n",
              "      <td>NaN</td>\n",
              "      <td>1999</td>\n",
              "      <td>NaN</td>\n",
              "      <td>0.0</td>\n",
              "    </tr>\n",
              "    <tr>\n",
              "      <th>1</th>\n",
              "      <td>0</td>\n",
              "      <td>1</td>\n",
              "      <td>5.0</td>\n",
              "      <td>1999-06-14</td>\n",
              "      <td>Female</td>\n",
              "      <td>Portable Audio &amp; Video</td>\n",
              "      <td>NaN</td>\n",
              "      <td>1999</td>\n",
              "      <td>NaN</td>\n",
              "      <td>0.0</td>\n",
              "    </tr>\n",
              "    <tr>\n",
              "      <th>2</th>\n",
              "      <td>0</td>\n",
              "      <td>2</td>\n",
              "      <td>3.0</td>\n",
              "      <td>1999-06-17</td>\n",
              "      <td>Female</td>\n",
              "      <td>Portable Audio &amp; Video</td>\n",
              "      <td>NaN</td>\n",
              "      <td>1999</td>\n",
              "      <td>NaN</td>\n",
              "      <td>0.0</td>\n",
              "    </tr>\n",
              "    <tr>\n",
              "      <th>3</th>\n",
              "      <td>0</td>\n",
              "      <td>3</td>\n",
              "      <td>1.0</td>\n",
              "      <td>1999-07-01</td>\n",
              "      <td>Female</td>\n",
              "      <td>Portable Audio &amp; Video</td>\n",
              "      <td>NaN</td>\n",
              "      <td>1999</td>\n",
              "      <td>NaN</td>\n",
              "      <td>0.0</td>\n",
              "    </tr>\n",
              "    <tr>\n",
              "      <th>4</th>\n",
              "      <td>0</td>\n",
              "      <td>4</td>\n",
              "      <td>2.0</td>\n",
              "      <td>1999-07-06</td>\n",
              "      <td>Female</td>\n",
              "      <td>Portable Audio &amp; Video</td>\n",
              "      <td>NaN</td>\n",
              "      <td>1999</td>\n",
              "      <td>NaN</td>\n",
              "      <td>0.0</td>\n",
              "    </tr>\n",
              "  </tbody>\n",
              "</table>\n",
              "</div>"
            ],
            "text/plain": [
              "   item_id  user_id  rating   timestamp  ... brand  year user_attr  split\n",
              "0        0        0     5.0  1999-06-13  ...   NaN  1999       NaN    0.0\n",
              "1        0        1     5.0  1999-06-14  ...   NaN  1999       NaN    0.0\n",
              "2        0        2     3.0  1999-06-17  ...   NaN  1999       NaN    0.0\n",
              "3        0        3     1.0  1999-07-01  ...   NaN  1999       NaN    0.0\n",
              "4        0        4     2.0  1999-07-06  ...   NaN  1999       NaN    0.0\n",
              "\n",
              "[5 rows x 10 columns]"
            ]
          },
          "metadata": {
            "tags": []
          },
          "execution_count": 8
        }
      ]
    },
    {
      "cell_type": "code",
      "metadata": {
        "colab": {
          "base_uri": "https://localhost:8080/",
          "height": 204
        },
        "id": "uWD4G3vDCdYo",
        "outputId": "5cbe51ee-07ac-4d89-eae8-23425ae5e632"
      },
      "source": [
        "clothdf=pd.read_csv('./modcloth.csv')\n",
        "clothdf.head()"
      ],
      "execution_count": 9,
      "outputs": [
        {
          "output_type": "execute_result",
          "data": {
            "text/html": [
              "<div>\n",
              "<style scoped>\n",
              "    .dataframe tbody tr th:only-of-type {\n",
              "        vertical-align: middle;\n",
              "    }\n",
              "\n",
              "    .dataframe tbody tr th {\n",
              "        vertical-align: top;\n",
              "    }\n",
              "\n",
              "    .dataframe thead th {\n",
              "        text-align: right;\n",
              "    }\n",
              "</style>\n",
              "<table border=\"1\" class=\"dataframe\">\n",
              "  <thead>\n",
              "    <tr style=\"text-align: right;\">\n",
              "      <th></th>\n",
              "      <th>item_id</th>\n",
              "      <th>user_id</th>\n",
              "      <th>rating</th>\n",
              "      <th>timestamp</th>\n",
              "      <th>size</th>\n",
              "      <th>fit</th>\n",
              "      <th>user_attr</th>\n",
              "      <th>model_attr</th>\n",
              "      <th>category</th>\n",
              "      <th>brand</th>\n",
              "      <th>year</th>\n",
              "      <th>split</th>\n",
              "    </tr>\n",
              "  </thead>\n",
              "  <tbody>\n",
              "    <tr>\n",
              "      <th>0</th>\n",
              "      <td>7443</td>\n",
              "      <td>Alex</td>\n",
              "      <td>4</td>\n",
              "      <td>2010-01-21 08:00:00+00:00</td>\n",
              "      <td>NaN</td>\n",
              "      <td>NaN</td>\n",
              "      <td>Small</td>\n",
              "      <td>Small</td>\n",
              "      <td>Dresses</td>\n",
              "      <td>NaN</td>\n",
              "      <td>2012</td>\n",
              "      <td>0</td>\n",
              "    </tr>\n",
              "    <tr>\n",
              "      <th>1</th>\n",
              "      <td>7443</td>\n",
              "      <td>carolyn.agan</td>\n",
              "      <td>3</td>\n",
              "      <td>2010-01-27 08:00:00+00:00</td>\n",
              "      <td>NaN</td>\n",
              "      <td>NaN</td>\n",
              "      <td>NaN</td>\n",
              "      <td>Small</td>\n",
              "      <td>Dresses</td>\n",
              "      <td>NaN</td>\n",
              "      <td>2012</td>\n",
              "      <td>0</td>\n",
              "    </tr>\n",
              "    <tr>\n",
              "      <th>2</th>\n",
              "      <td>7443</td>\n",
              "      <td>Robyn</td>\n",
              "      <td>4</td>\n",
              "      <td>2010-01-29 08:00:00+00:00</td>\n",
              "      <td>NaN</td>\n",
              "      <td>NaN</td>\n",
              "      <td>Small</td>\n",
              "      <td>Small</td>\n",
              "      <td>Dresses</td>\n",
              "      <td>NaN</td>\n",
              "      <td>2012</td>\n",
              "      <td>0</td>\n",
              "    </tr>\n",
              "    <tr>\n",
              "      <th>3</th>\n",
              "      <td>7443</td>\n",
              "      <td>De</td>\n",
              "      <td>4</td>\n",
              "      <td>2010-02-13 08:00:00+00:00</td>\n",
              "      <td>NaN</td>\n",
              "      <td>NaN</td>\n",
              "      <td>NaN</td>\n",
              "      <td>Small</td>\n",
              "      <td>Dresses</td>\n",
              "      <td>NaN</td>\n",
              "      <td>2012</td>\n",
              "      <td>0</td>\n",
              "    </tr>\n",
              "    <tr>\n",
              "      <th>4</th>\n",
              "      <td>7443</td>\n",
              "      <td>tasha</td>\n",
              "      <td>4</td>\n",
              "      <td>2010-02-18 08:00:00+00:00</td>\n",
              "      <td>NaN</td>\n",
              "      <td>NaN</td>\n",
              "      <td>Small</td>\n",
              "      <td>Small</td>\n",
              "      <td>Dresses</td>\n",
              "      <td>NaN</td>\n",
              "      <td>2012</td>\n",
              "      <td>0</td>\n",
              "    </tr>\n",
              "  </tbody>\n",
              "</table>\n",
              "</div>"
            ],
            "text/plain": [
              "   item_id       user_id  rating  ... brand  year split\n",
              "0     7443          Alex       4  ...   NaN  2012     0\n",
              "1     7443  carolyn.agan       3  ...   NaN  2012     0\n",
              "2     7443         Robyn       4  ...   NaN  2012     0\n",
              "3     7443            De       4  ...   NaN  2012     0\n",
              "4     7443         tasha       4  ...   NaN  2012     0\n",
              "\n",
              "[5 rows x 12 columns]"
            ]
          },
          "metadata": {
            "tags": []
          },
          "execution_count": 9
        }
      ]
    },
    {
      "cell_type": "markdown",
      "metadata": {
        "id": "dtB1cGvLC0g1"
      },
      "source": [
        "# **We wil start with Electronics Dataset**"
      ]
    },
    {
      "cell_type": "code",
      "metadata": {
        "colab": {
          "base_uri": "https://localhost:8080/"
        },
        "id": "XOkey8iKC81t",
        "outputId": "1dd50a55-fa42-4d05-ab9c-51305d9110d9"
      },
      "source": [
        "elecdf.info()"
      ],
      "execution_count": 10,
      "outputs": [
        {
          "output_type": "stream",
          "text": [
            "<class 'pandas.core.frame.DataFrame'>\n",
            "RangeIndex: 736794 entries, 0 to 736793\n",
            "Data columns (total 10 columns):\n",
            " #   Column      Non-Null Count   Dtype  \n",
            "---  ------      --------------   -----  \n",
            " 0   item_id     736794 non-null  int64  \n",
            " 1   user_id     736794 non-null  int64  \n",
            " 2   rating      736794 non-null  float64\n",
            " 3   timestamp   736794 non-null  object \n",
            " 4   model_attr  736794 non-null  object \n",
            " 5   category    736794 non-null  object \n",
            " 6   brand       204183 non-null  object \n",
            " 7   year        736794 non-null  int64  \n",
            " 8   user_attr   99707 non-null   object \n",
            " 9   split       736793 non-null  float64\n",
            "dtypes: float64(2), int64(3), object(5)\n",
            "memory usage: 56.2+ MB\n"
          ],
          "name": "stdout"
        }
      ]
    },
    {
      "cell_type": "code",
      "metadata": {
        "colab": {
          "base_uri": "https://localhost:8080/"
        },
        "id": "z8KnpmY5DJ2V",
        "outputId": "a2a38c97-8149-4d62-bd29-edf422cf72a7"
      },
      "source": [
        "elecdf.isnull().sum()"
      ],
      "execution_count": 11,
      "outputs": [
        {
          "output_type": "execute_result",
          "data": {
            "text/plain": [
              "item_id            0\n",
              "user_id            0\n",
              "rating             0\n",
              "timestamp          0\n",
              "model_attr         0\n",
              "category           0\n",
              "brand         532611\n",
              "year               0\n",
              "user_attr     637087\n",
              "split              1\n",
              "dtype: int64"
            ]
          },
          "metadata": {
            "tags": []
          },
          "execution_count": 11
        }
      ]
    },
    {
      "cell_type": "code",
      "metadata": {
        "colab": {
          "base_uri": "https://localhost:8080/",
          "height": 390
        },
        "id": "vkT7SXiUEuqF",
        "outputId": "ba5d60b4-c68d-456d-baa9-8b41211b3ad8"
      },
      "source": [
        "popular_products = pd.DataFrame(elecdf.groupby('item_id')['rating'].count());\n",
        "most_popular = popular_products.sort_values('rating', ascending=False)\n",
        "most_popular.head(10)"
      ],
      "execution_count": 27,
      "outputs": [
        {
          "output_type": "execute_result",
          "data": {
            "text/html": [
              "<div>\n",
              "<style scoped>\n",
              "    .dataframe tbody tr th:only-of-type {\n",
              "        vertical-align: middle;\n",
              "    }\n",
              "\n",
              "    .dataframe tbody tr th {\n",
              "        vertical-align: top;\n",
              "    }\n",
              "\n",
              "    .dataframe thead th {\n",
              "        text-align: right;\n",
              "    }\n",
              "</style>\n",
              "<table border=\"1\" class=\"dataframe\">\n",
              "  <thead>\n",
              "    <tr style=\"text-align: right;\">\n",
              "      <th></th>\n",
              "      <th>rating</th>\n",
              "    </tr>\n",
              "    <tr>\n",
              "      <th>item_id</th>\n",
              "      <th></th>\n",
              "    </tr>\n",
              "  </thead>\n",
              "  <tbody>\n",
              "    <tr>\n",
              "      <th>1575</th>\n",
              "      <td>7645</td>\n",
              "    </tr>\n",
              "    <tr>\n",
              "      <th>2340</th>\n",
              "      <td>5622</td>\n",
              "    </tr>\n",
              "    <tr>\n",
              "      <th>2279</th>\n",
              "      <td>4922</td>\n",
              "    </tr>\n",
              "    <tr>\n",
              "      <th>2486</th>\n",
              "      <td>4872</td>\n",
              "    </tr>\n",
              "    <tr>\n",
              "      <th>1886</th>\n",
              "      <td>4857</td>\n",
              "    </tr>\n",
              "    <tr>\n",
              "      <th>1715</th>\n",
              "      <td>4306</td>\n",
              "    </tr>\n",
              "    <tr>\n",
              "      <th>2031</th>\n",
              "      <td>4249</td>\n",
              "    </tr>\n",
              "    <tr>\n",
              "      <th>2483</th>\n",
              "      <td>4246</td>\n",
              "    </tr>\n",
              "    <tr>\n",
              "      <th>1124</th>\n",
              "      <td>4117</td>\n",
              "    </tr>\n",
              "    <tr>\n",
              "      <th>2129</th>\n",
              "      <td>3852</td>\n",
              "    </tr>\n",
              "  </tbody>\n",
              "</table>\n",
              "</div>"
            ],
            "text/plain": [
              "         rating\n",
              "item_id        \n",
              "1575       7645\n",
              "2340       5622\n",
              "2279       4922\n",
              "2486       4872\n",
              "1886       4857\n",
              "1715       4306\n",
              "2031       4249\n",
              "2483       4246\n",
              "1124       4117\n",
              "2129       3852"
            ]
          },
          "metadata": {
            "tags": []
          },
          "execution_count": 27
        }
      ]
    },
    {
      "cell_type": "code",
      "metadata": {
        "colab": {
          "base_uri": "https://localhost:8080/",
          "height": 316
        },
        "id": "FTb_LhzKGZcc",
        "outputId": "b05c57c5-43a8-4f27-a67b-636228c765d8"
      },
      "source": [
        "most_popular.head(30).plot(kind = \"bar\")"
      ],
      "execution_count": 28,
      "outputs": [
        {
          "output_type": "execute_result",
          "data": {
            "text/plain": [
              "<matplotlib.axes._subplots.AxesSubplot at 0x7f2b99da9990>"
            ]
          },
          "metadata": {
            "tags": []
          },
          "execution_count": 28
        },
        {
          "output_type": "display_data",
          "data": {
            "image/png": "[encoded data removed]",
            "text/plain": [
              "<Figure size 432x288 with 1 Axes>"
            ]
          },
          "metadata": {
            "tags": [],
            "needs_background": "light"
          }
        }
      ]
    },
    {
      "cell_type": "markdown",
      "metadata": {
        "id": "VUqoUHcFGfaN"
      },
      "source": [
        "The graph gives us most popular products.\n",
        "\n",
        "Now, we calculate distribuition of number of ratings and mean ratings recorded for each product."
      ]
    },
    {
      "cell_type": "code",
      "metadata": {
        "colab": {
          "base_uri": "https://localhost:8080/",
          "height": 235
        },
        "id": "aMLPqn8CGx1L",
        "outputId": "53e71c5c-abc3-45f9-a57e-e0f0401e5f21"
      },
      "source": [
        "elecdf_rating=pd.DataFrame({'Number of Rating':elecdf.groupby('item_id').count()['rating'], 'Mean Rating':elecdf.groupby('item_id').mean()['rating']})\n",
        "elecdf_rating.head()"
      ],
      "execution_count": 30,
      "outputs": [
        {
          "output_type": "execute_result",
          "data": {
            "text/html": [
              "<div>\n",
              "<style scoped>\n",
              "    .dataframe tbody tr th:only-of-type {\n",
              "        vertical-align: middle;\n",
              "    }\n",
              "\n",
              "    .dataframe tbody tr th {\n",
              "        vertical-align: top;\n",
              "    }\n",
              "\n",
              "    .dataframe thead th {\n",
              "        text-align: right;\n",
              "    }\n",
              "</style>\n",
              "<table border=\"1\" class=\"dataframe\">\n",
              "  <thead>\n",
              "    <tr style=\"text-align: right;\">\n",
              "      <th></th>\n",
              "      <th>Number of Rating</th>\n",
              "      <th>Mean Rating</th>\n",
              "    </tr>\n",
              "    <tr>\n",
              "      <th>item_id</th>\n",
              "      <th></th>\n",
              "      <th></th>\n",
              "    </tr>\n",
              "  </thead>\n",
              "  <tbody>\n",
              "    <tr>\n",
              "      <th>0</th>\n",
              "      <td>118</td>\n",
              "      <td>3.542373</td>\n",
              "    </tr>\n",
              "    <tr>\n",
              "      <th>1</th>\n",
              "      <td>58</td>\n",
              "      <td>3.844828</td>\n",
              "    </tr>\n",
              "    <tr>\n",
              "      <th>2</th>\n",
              "      <td>2904</td>\n",
              "      <td>4.464187</td>\n",
              "    </tr>\n",
              "    <tr>\n",
              "      <th>3</th>\n",
              "      <td>154</td>\n",
              "      <td>3.266234</td>\n",
              "    </tr>\n",
              "    <tr>\n",
              "      <th>4</th>\n",
              "      <td>11</td>\n",
              "      <td>3.636364</td>\n",
              "    </tr>\n",
              "  </tbody>\n",
              "</table>\n",
              "</div>"
            ],
            "text/plain": [
              "         Number of Rating  Mean Rating\n",
              "item_id                               \n",
              "0                     118     3.542373\n",
              "1                      58     3.844828\n",
              "2                    2904     4.464187\n",
              "3                     154     3.266234\n",
              "4                      11     3.636364"
            ]
          },
          "metadata": {
            "tags": []
          },
          "execution_count": 30
        }
      ]
    },
    {
      "cell_type": "code",
      "metadata": {
        "colab": {
          "base_uri": "https://localhost:8080/",
          "height": 363
        },
        "id": "YzXUTAtVHbrc",
        "outputId": "171495e7-64f7-4ed4-cf7c-eab2287c9ba1"
      },
      "source": [
        "plt.figure(figsize=(18,6))\n",
        "\n",
        "plt.subplot(1,2,1)\n",
        "plt.hist(x='Number of Rating',data=elecdf_rating,bins=30,color='teal')\n",
        "plt.title('Distribution of Number of Rating', fontsize=15)\n",
        "plt.xlabel('Number of Rating', fontsize=12)\n",
        "plt.ylabel('Frequency', fontsize=12)\n",
        "\n",
        "plt.subplot(1,2,2)\n",
        "plt.hist(x='Mean Rating',data=elecdf_rating,bins=30, color='slateblue')\n",
        "plt.title('Distribution of Mean Rating', fontsize=15)\n",
        "plt.xlabel('Mean Rating', fontsize=12)\n",
        "plt.yticks([])\n",
        "plt.show()"
      ],
      "execution_count": 33,
      "outputs": [
        {
          "output_type": "display_data",
          "data": {
            "image/png": "[encoded data removed]",
            "text/plain": [
              "<Figure size 1296x432 with 2 Axes>"
            ]
          },
          "metadata": {
            "tags": [],
            "needs_background": "light"
          }
        }
      ]
    },
    {
      "cell_type": "markdown",
      "metadata": {
        "id": "1t_tyEmjHmNd"
      },
      "source": [
        "From these histograms we can see that most of the number of ratings are between 0 and 1000, and most of the products have a mean rating of 5."
      ]
    },
    {
      "cell_type": "code",
      "metadata": {
        "colab": {
          "base_uri": "https://localhost:8080/",
          "height": 460
        },
        "id": "BTva-XMlHl_z",
        "outputId": "346d89f8-0040-4756-c890-97844bd31235"
      },
      "source": [
        "plt.figure(figsize=(8,6))\n",
        "sns.jointplot(x='Number of Rating', y='Mean Rating',data=elecdf_rating)\n",
        "plt.suptitle('Mean Rating Versus Number of Rating')\n",
        "\n",
        "plt.show()"
      ],
      "execution_count": 36,
      "outputs": [
        {
          "output_type": "display_data",
          "data": {
            "text/plain": [
              "<Figure size 576x432 with 0 Axes>"
            ]
          },
          "metadata": {
            "tags": []
          }
        },
        {
          "output_type": "display_data",
          "data": {
            "image/png": "[encoded data removed]",
            "text/plain": [
              "<Figure size 432x432 with 3 Axes>"
            ]
          },
          "metadata": {
            "tags": [],
            "needs_background": "light"
          }
        }
      ]
    },
    {
      "cell_type": "code",
      "metadata": {
        "colab": {
          "base_uri": "https://localhost:8080/",
          "height": 297
        },
        "id": "0f3RvHuNgvcG",
        "outputId": "5c391fed-3555-4ed7-b644-e3bf0f054338"
      },
      "source": [
        "elecdf_rating.describe()"
      ],
      "execution_count": 38,
      "outputs": [
        {
          "output_type": "execute_result",
          "data": {
            "text/html": [
              "<div>\n",
              "<style scoped>\n",
              "    .dataframe tbody tr th:only-of-type {\n",
              "        vertical-align: middle;\n",
              "    }\n",
              "\n",
              "    .dataframe tbody tr th {\n",
              "        vertical-align: top;\n",
              "    }\n",
              "\n",
              "    .dataframe thead th {\n",
              "        text-align: right;\n",
              "    }\n",
              "</style>\n",
              "<table border=\"1\" class=\"dataframe\">\n",
              "  <thead>\n",
              "    <tr style=\"text-align: right;\">\n",
              "      <th></th>\n",
              "      <th>Number of Rating</th>\n",
              "      <th>Mean Rating</th>\n",
              "    </tr>\n",
              "  </thead>\n",
              "  <tbody>\n",
              "    <tr>\n",
              "      <th>count</th>\n",
              "      <td>8890.000000</td>\n",
              "      <td>8890.000000</td>\n",
              "    </tr>\n",
              "    <tr>\n",
              "      <th>mean</th>\n",
              "      <td>82.878965</td>\n",
              "      <td>3.955574</td>\n",
              "    </tr>\n",
              "    <tr>\n",
              "      <th>std</th>\n",
              "      <td>271.284838</td>\n",
              "      <td>0.753327</td>\n",
              "    </tr>\n",
              "    <tr>\n",
              "      <th>min</th>\n",
              "      <td>1.000000</td>\n",
              "      <td>1.000000</td>\n",
              "    </tr>\n",
              "    <tr>\n",
              "      <th>25%</th>\n",
              "      <td>6.000000</td>\n",
              "      <td>3.500000</td>\n",
              "    </tr>\n",
              "    <tr>\n",
              "      <th>50%</th>\n",
              "      <td>16.000000</td>\n",
              "      <td>4.066667</td>\n",
              "    </tr>\n",
              "    <tr>\n",
              "      <th>75%</th>\n",
              "      <td>54.000000</td>\n",
              "      <td>4.512771</td>\n",
              "    </tr>\n",
              "    <tr>\n",
              "      <th>max</th>\n",
              "      <td>7645.000000</td>\n",
              "      <td>5.000000</td>\n",
              "    </tr>\n",
              "  </tbody>\n",
              "</table>\n",
              "</div>"
            ],
            "text/plain": [
              "       Number of Rating  Mean Rating\n",
              "count       8890.000000  8890.000000\n",
              "mean          82.878965     3.955574\n",
              "std          271.284838     0.753327\n",
              "min            1.000000     1.000000\n",
              "25%            6.000000     3.500000\n",
              "50%           16.000000     4.066667\n",
              "75%           54.000000     4.512771\n",
              "max         7645.000000     5.000000"
            ]
          },
          "metadata": {
            "tags": []
          },
          "execution_count": 38
        }
      ]
    },
    {
      "cell_type": "markdown",
      "metadata": {
        "id": "cF9EpMMnivDP"
      },
      "source": [
        "Here, we can use  popularity-based recommender but, it disregards the taste and bias of user."
      ]
    },
    {
      "cell_type": "markdown",
      "metadata": {
        "id": "OTp6QA_aIl4g"
      },
      "source": [
        "# Recommendation System: \n",
        "\n",
        "**Collabrative Recommender:**\n",
        "  \n",
        "Collaborative Filtering matches persons with similar interests and provides recommendations based on this matching. It is based on the idea that users similar to me can be used to predict how much I will like a particular product or service those users have used/experienced but I have not."
      ]
    },
    {
      "cell_type": "markdown",
      "metadata": {
        "id": "xuY_tYh3jiam"
      },
      "source": [
        "**SVD: Matrix Factorization Based Algorithm** based on products sold and user reviews\n",
        "\n",
        "\n",
        "Now we use SVD Algorithm"
      ]
    },
    {
      "cell_type": "code",
      "metadata": {
        "id": "ZBGvJZyFI45M"
      },
      "source": [
        "\n",
        "algo = SVD()\n",
        "reader= Reader()"
      ],
      "execution_count": 39,
      "outputs": []
    },
    {
      "cell_type": "code",
      "metadata": {
        "colab": {
          "base_uri": "https://localhost:8080/"
        },
        "id": "o0NlRyC-kHYl",
        "outputId": "55667882-e7d1-42ba-9c0c-e41cfcd3078a"
      },
      "source": [
        "data = Dataset.load_from_df(elecdf[['user_id', 'item_id', 'rating']], reader)\n",
        "\n",
        "cross_validate(algo, data, measures=['RMSE', 'MAE'], cv=5, verbose=True)"
      ],
      "execution_count": 42,
      "outputs": [
        {
          "output_type": "stream",
          "text": [
            "Evaluating RMSE, MAE of algorithm SVD on 5 split(s).\n",
            "\n",
            "                  Fold 1  Fold 2  Fold 3  Fold 4  Fold 5  Mean    Std     \n",
            "RMSE (testset)    1.2677  1.2671  1.2677  1.2667  1.2693  1.2677  0.0009  \n",
            "MAE (testset)     0.9983  0.9997  0.9988  0.9990  0.9998  0.9991  0.0006  \n",
            "Fit time          32.31   32.57   32.72   32.91   32.76   32.65   0.20    \n",
            "Test time         2.10    1.13    1.10    1.10    1.13    1.31    0.40    \n"
          ],
          "name": "stdout"
        },
        {
          "output_type": "execute_result",
          "data": {
            "text/plain": [
              "{'fit_time': (32.310699224472046,\n",
              "  32.569783449172974,\n",
              "  32.7240674495697,\n",
              "  32.90887522697449,\n",
              "  32.7595317363739),\n",
              " 'test_mae': array([0.99828255, 0.99967721, 0.99881907, 0.99903193, 0.99980486]),\n",
              " 'test_rmse': array([1.26770752, 1.26714965, 1.26768952, 1.26668642, 1.26929178]),\n",
              " 'test_time': (2.1034443378448486,\n",
              "  1.1289653778076172,\n",
              "  1.0963518619537354,\n",
              "  1.095045566558838,\n",
              "  1.1276147365570068)}"
            ]
          },
          "metadata": {
            "tags": []
          },
          "execution_count": 42
        }
      ]
    },
    {
      "cell_type": "markdown",
      "metadata": {
        "id": "Yk1AQqJAlQ2P"
      },
      "source": [
        "RMSE = 1.26approx. \n",
        "So, now we can train data."
      ]
    },
    {
      "cell_type": "code",
      "metadata": {
        "colab": {
          "base_uri": "https://localhost:8080/"
        },
        "id": "JA0kS8mDloJP",
        "outputId": "60f1a104-822d-42a4-b09c-810cb89503ba"
      },
      "source": [
        "trainset = data.build_full_trainset()\n",
        "algo.fit(trainset)"
      ],
      "execution_count": 45,
      "outputs": [
        {
          "output_type": "execute_result",
          "data": {
            "text/plain": [
              "<surprise.prediction_algorithms.matrix_factorization.SVD at 0x7f2b84550350>"
            ]
          },
          "metadata": {
            "tags": []
          },
          "execution_count": 45
        }
      ]
    },
    {
      "cell_type": "code",
      "metadata": {
        "colab": {
          "base_uri": "https://localhost:8080/"
        },
        "id": "iNcoebPu0NGR",
        "outputId": "8a89bf85-d362-4d54-d7a3-32bc6f90790e"
      },
      "source": [
        "algo.predict(uid='12', iid='0', r_ui=None)"
      ],
      "execution_count": 74,
      "outputs": [
        {
          "output_type": "execute_result",
          "data": {
            "text/plain": [
              "Prediction(uid='12', iid='0', r_ui=None, est=4.066443266367533, details={'was_impossible': False})"
            ]
          },
          "metadata": {
            "tags": []
          },
          "execution_count": 74
        }
      ]
    },
    {
      "cell_type": "code",
      "metadata": {
        "colab": {
          "base_uri": "https://localhost:8080/"
        },
        "id": "ZNCb80Bp0bMB",
        "outputId": "e98d2d9c-65ac-460b-b0bd-767b806dfb50"
      },
      "source": [
        "algo.predict(uid='3939', iid='243', r_ui=None).est"
      ],
      "execution_count": 77,
      "outputs": [
        {
          "output_type": "execute_result",
          "data": {
            "text/plain": [
              "4.066443266367533"
            ]
          },
          "metadata": {
            "tags": []
          },
          "execution_count": 77
        }
      ]
    },
    {
      "cell_type": "markdown",
      "metadata": {
        "id": "8wyE-2XNmT7c"
      },
      "source": [
        "As, the data is trained, we now build the recommender for Electronics data."
      ]
    },
    {
      "cell_type": "markdown",
      "metadata": {
        "id": "eKCw8kvgmPo0"
      },
      "source": [
        "RECOMMENDER"
      ]
    },
    {
      "cell_type": "markdown",
      "metadata": {
        "id": "DR8jnT_Vrpiv"
      },
      "source": [
        "Using corrwith() we give inout of the user_id & item_id which will give output of similar products.\n",
        "\n",
        "\n",
        "To avoid processing difficulties, we filter data which only contains the customers who have given ratings more than 20 times and put them into a dataframe. "
      ]
    },
    {
      "cell_type": "code",
      "metadata": {
        "id": "1fJKCokRsIXr"
      },
      "source": [
        "elecdf_users=elecdf.groupby('user_id').filter(lambda x: x['rating'].count()>=20);"
      ],
      "execution_count": 56,
      "outputs": []
    },
    {
      "cell_type": "code",
      "metadata": {
        "colab": {
          "base_uri": "https://localhost:8080/",
          "height": 419
        },
        "id": "laCD0Rvbtap7",
        "outputId": "7490a33f-5b88-4947-d820-5e3da5ee2c37"
      },
      "source": [
        "elecdf_users"
      ],
      "execution_count": 57,
      "outputs": [
        {
          "output_type": "execute_result",
          "data": {
            "text/html": [
              "<div>\n",
              "<style scoped>\n",
              "    .dataframe tbody tr th:only-of-type {\n",
              "        vertical-align: middle;\n",
              "    }\n",
              "\n",
              "    .dataframe tbody tr th {\n",
              "        vertical-align: top;\n",
              "    }\n",
              "\n",
              "    .dataframe thead th {\n",
              "        text-align: right;\n",
              "    }\n",
              "</style>\n",
              "<table border=\"1\" class=\"dataframe\">\n",
              "  <thead>\n",
              "    <tr style=\"text-align: right;\">\n",
              "      <th></th>\n",
              "      <th>item_id</th>\n",
              "      <th>user_id</th>\n",
              "      <th>rating</th>\n",
              "      <th>timestamp</th>\n",
              "      <th>model_attr</th>\n",
              "      <th>category</th>\n",
              "      <th>brand</th>\n",
              "      <th>year</th>\n",
              "      <th>user_attr</th>\n",
              "      <th>split</th>\n",
              "    </tr>\n",
              "  </thead>\n",
              "  <tbody>\n",
              "    <tr>\n",
              "      <th>3218</th>\n",
              "      <td>137</td>\n",
              "      <td>3089</td>\n",
              "      <td>4.0</td>\n",
              "      <td>2004-12-31</td>\n",
              "      <td>Female&amp;Male</td>\n",
              "      <td>Camera &amp; Photo</td>\n",
              "      <td>Canon</td>\n",
              "      <td>2004</td>\n",
              "      <td>NaN</td>\n",
              "      <td>0.0</td>\n",
              "    </tr>\n",
              "    <tr>\n",
              "      <th>4105</th>\n",
              "      <td>243</td>\n",
              "      <td>3939</td>\n",
              "      <td>5.0</td>\n",
              "      <td>2005-07-06</td>\n",
              "      <td>Female</td>\n",
              "      <td>Camera &amp; Photo</td>\n",
              "      <td>Nikon</td>\n",
              "      <td>2005</td>\n",
              "      <td>Male</td>\n",
              "      <td>0.0</td>\n",
              "    </tr>\n",
              "    <tr>\n",
              "      <th>5126</th>\n",
              "      <td>214</td>\n",
              "      <td>4934</td>\n",
              "      <td>5.0</td>\n",
              "      <td>2005-11-27</td>\n",
              "      <td>Female</td>\n",
              "      <td>Camera &amp; Photo</td>\n",
              "      <td>Olympus</td>\n",
              "      <td>2005</td>\n",
              "      <td>Female</td>\n",
              "      <td>0.0</td>\n",
              "    </tr>\n",
              "    <tr>\n",
              "      <th>7877</th>\n",
              "      <td>314</td>\n",
              "      <td>7605</td>\n",
              "      <td>4.0</td>\n",
              "      <td>2006-12-24</td>\n",
              "      <td>Female</td>\n",
              "      <td>Camera &amp; Photo</td>\n",
              "      <td>Canon</td>\n",
              "      <td>2006</td>\n",
              "      <td>Male</td>\n",
              "      <td>0.0</td>\n",
              "    </tr>\n",
              "    <tr>\n",
              "      <th>11871</th>\n",
              "      <td>522</td>\n",
              "      <td>11517</td>\n",
              "      <td>4.0</td>\n",
              "      <td>2007-08-09</td>\n",
              "      <td>Female</td>\n",
              "      <td>Camera &amp; Photo</td>\n",
              "      <td>Philips</td>\n",
              "      <td>2007</td>\n",
              "      <td>Female</td>\n",
              "      <td>0.0</td>\n",
              "    </tr>\n",
              "    <tr>\n",
              "      <th>...</th>\n",
              "      <td>...</td>\n",
              "      <td>...</td>\n",
              "      <td>...</td>\n",
              "      <td>...</td>\n",
              "      <td>...</td>\n",
              "      <td>...</td>\n",
              "      <td>...</td>\n",
              "      <td>...</td>\n",
              "      <td>...</td>\n",
              "      <td>...</td>\n",
              "    </tr>\n",
              "    <tr>\n",
              "      <th>719049</th>\n",
              "      <td>8173</td>\n",
              "      <td>30677</td>\n",
              "      <td>5.0</td>\n",
              "      <td>2016-01-02</td>\n",
              "      <td>Female</td>\n",
              "      <td>Headphones</td>\n",
              "      <td>NaN</td>\n",
              "      <td>2015</td>\n",
              "      <td>Female</td>\n",
              "      <td>0.0</td>\n",
              "    </tr>\n",
              "    <tr>\n",
              "      <th>722097</th>\n",
              "      <td>8841</td>\n",
              "      <td>30677</td>\n",
              "      <td>5.0</td>\n",
              "      <td>2016-01-05</td>\n",
              "      <td>Female</td>\n",
              "      <td>Computers &amp; Accessories</td>\n",
              "      <td>NaN</td>\n",
              "      <td>2016</td>\n",
              "      <td>Female</td>\n",
              "      <td>1.0</td>\n",
              "    </tr>\n",
              "    <tr>\n",
              "      <th>722368</th>\n",
              "      <td>6778</td>\n",
              "      <td>11517</td>\n",
              "      <td>4.0</td>\n",
              "      <td>2016-01-05</td>\n",
              "      <td>Female</td>\n",
              "      <td>Headphones</td>\n",
              "      <td>NaN</td>\n",
              "      <td>2015</td>\n",
              "      <td>Female</td>\n",
              "      <td>1.0</td>\n",
              "    </tr>\n",
              "    <tr>\n",
              "      <th>730038</th>\n",
              "      <td>6242</td>\n",
              "      <td>142967</td>\n",
              "      <td>4.0</td>\n",
              "      <td>2016-01-12</td>\n",
              "      <td>Male</td>\n",
              "      <td>Headphones</td>\n",
              "      <td>NaN</td>\n",
              "      <td>2015</td>\n",
              "      <td>NaN</td>\n",
              "      <td>0.0</td>\n",
              "    </tr>\n",
              "    <tr>\n",
              "      <th>733088</th>\n",
              "      <td>7775</td>\n",
              "      <td>179602</td>\n",
              "      <td>5.0</td>\n",
              "      <td>2016-01-15</td>\n",
              "      <td>Male</td>\n",
              "      <td>Accessories &amp; Supplies</td>\n",
              "      <td>NaN</td>\n",
              "      <td>2015</td>\n",
              "      <td>Female</td>\n",
              "      <td>0.0</td>\n",
              "    </tr>\n",
              "  </tbody>\n",
              "</table>\n",
              "<p>754 rows × 10 columns</p>\n",
              "</div>"
            ],
            "text/plain": [
              "        item_id  user_id  rating   timestamp  ...    brand  year user_attr  split\n",
              "3218        137     3089     4.0  2004-12-31  ...    Canon  2004       NaN    0.0\n",
              "4105        243     3939     5.0  2005-07-06  ...    Nikon  2005      Male    0.0\n",
              "5126        214     4934     5.0  2005-11-27  ...  Olympus  2005    Female    0.0\n",
              "7877        314     7605     4.0  2006-12-24  ...    Canon  2006      Male    0.0\n",
              "11871       522    11517     4.0  2007-08-09  ...  Philips  2007    Female    0.0\n",
              "...         ...      ...     ...         ...  ...      ...   ...       ...    ...\n",
              "719049     8173    30677     5.0  2016-01-02  ...      NaN  2015    Female    0.0\n",
              "722097     8841    30677     5.0  2016-01-05  ...      NaN  2016    Female    1.0\n",
              "722368     6778    11517     4.0  2016-01-05  ...      NaN  2015    Female    1.0\n",
              "730038     6242   142967     4.0  2016-01-12  ...      NaN  2015       NaN    0.0\n",
              "733088     7775   179602     5.0  2016-01-15  ...      NaN  2015    Female    0.0\n",
              "\n",
              "[754 rows x 10 columns]"
            ]
          },
          "metadata": {
            "tags": []
          },
          "execution_count": 57
        }
      ]
    },
    {
      "cell_type": "markdown",
      "metadata": {
        "id": "FrnBNfhNsnUr"
      },
      "source": [
        "We create a pivot table."
      ]
    },
    {
      "cell_type": "code",
      "metadata": {
        "colab": {
          "base_uri": "https://localhost:8080/",
          "height": 284
        },
        "id": "A-wBZ0oEsq3j",
        "outputId": "90694456-ee74-489d-ec78-46faca58ae70"
      },
      "source": [
        "matrix=pd.pivot_table(data=elecdf_users, values='rating', index='user_id',columns='item_id')\n",
        "matrix.head()"
      ],
      "execution_count": 93,
      "outputs": [
        {
          "output_type": "execute_result",
          "data": {
            "text/html": [
              "<div>\n",
              "<style scoped>\n",
              "    .dataframe tbody tr th:only-of-type {\n",
              "        vertical-align: middle;\n",
              "    }\n",
              "\n",
              "    .dataframe tbody tr th {\n",
              "        vertical-align: top;\n",
              "    }\n",
              "\n",
              "    .dataframe thead th {\n",
              "        text-align: right;\n",
              "    }\n",
              "</style>\n",
              "<table border=\"1\" class=\"dataframe\">\n",
              "  <thead>\n",
              "    <tr style=\"text-align: right;\">\n",
              "      <th>item_id</th>\n",
              "      <th>2</th>\n",
              "      <th>17</th>\n",
              "      <th>75</th>\n",
              "      <th>79</th>\n",
              "      <th>137</th>\n",
              "      <th>214</th>\n",
              "      <th>222</th>\n",
              "      <th>243</th>\n",
              "      <th>272</th>\n",
              "      <th>310</th>\n",
              "      <th>314</th>\n",
              "      <th>328</th>\n",
              "      <th>337</th>\n",
              "      <th>362</th>\n",
              "      <th>430</th>\n",
              "      <th>468</th>\n",
              "      <th>485</th>\n",
              "      <th>512</th>\n",
              "      <th>522</th>\n",
              "      <th>557</th>\n",
              "      <th>569</th>\n",
              "      <th>584</th>\n",
              "      <th>605</th>\n",
              "      <th>608</th>\n",
              "      <th>623</th>\n",
              "      <th>641</th>\n",
              "      <th>646</th>\n",
              "      <th>647</th>\n",
              "      <th>669</th>\n",
              "      <th>679</th>\n",
              "      <th>695</th>\n",
              "      <th>710</th>\n",
              "      <th>714</th>\n",
              "      <th>724</th>\n",
              "      <th>736</th>\n",
              "      <th>746</th>\n",
              "      <th>752</th>\n",
              "      <th>807</th>\n",
              "      <th>819</th>\n",
              "      <th>828</th>\n",
              "      <th>...</th>\n",
              "      <th>7743</th>\n",
              "      <th>7746</th>\n",
              "      <th>7751</th>\n",
              "      <th>7772</th>\n",
              "      <th>7775</th>\n",
              "      <th>7776</th>\n",
              "      <th>7780</th>\n",
              "      <th>7841</th>\n",
              "      <th>7862</th>\n",
              "      <th>7864</th>\n",
              "      <th>7869</th>\n",
              "      <th>7887</th>\n",
              "      <th>7912</th>\n",
              "      <th>7915</th>\n",
              "      <th>7925</th>\n",
              "      <th>7944</th>\n",
              "      <th>7965</th>\n",
              "      <th>7967</th>\n",
              "      <th>7968</th>\n",
              "      <th>7971</th>\n",
              "      <th>8007</th>\n",
              "      <th>8030</th>\n",
              "      <th>8054</th>\n",
              "      <th>8092</th>\n",
              "      <th>8110</th>\n",
              "      <th>8141</th>\n",
              "      <th>8167</th>\n",
              "      <th>8173</th>\n",
              "      <th>8217</th>\n",
              "      <th>8280</th>\n",
              "      <th>8305</th>\n",
              "      <th>8367</th>\n",
              "      <th>8442</th>\n",
              "      <th>8443</th>\n",
              "      <th>8466</th>\n",
              "      <th>8471</th>\n",
              "      <th>8496</th>\n",
              "      <th>8584</th>\n",
              "      <th>8682</th>\n",
              "      <th>8841</th>\n",
              "    </tr>\n",
              "    <tr>\n",
              "      <th>user_id</th>\n",
              "      <th></th>\n",
              "      <th></th>\n",
              "      <th></th>\n",
              "      <th></th>\n",
              "      <th></th>\n",
              "      <th></th>\n",
              "      <th></th>\n",
              "      <th></th>\n",
              "      <th></th>\n",
              "      <th></th>\n",
              "      <th></th>\n",
              "      <th></th>\n",
              "      <th></th>\n",
              "      <th></th>\n",
              "      <th></th>\n",
              "      <th></th>\n",
              "      <th></th>\n",
              "      <th></th>\n",
              "      <th></th>\n",
              "      <th></th>\n",
              "      <th></th>\n",
              "      <th></th>\n",
              "      <th></th>\n",
              "      <th></th>\n",
              "      <th></th>\n",
              "      <th></th>\n",
              "      <th></th>\n",
              "      <th></th>\n",
              "      <th></th>\n",
              "      <th></th>\n",
              "      <th></th>\n",
              "      <th></th>\n",
              "      <th></th>\n",
              "      <th></th>\n",
              "      <th></th>\n",
              "      <th></th>\n",
              "      <th></th>\n",
              "      <th></th>\n",
              "      <th></th>\n",
              "      <th></th>\n",
              "      <th></th>\n",
              "      <th></th>\n",
              "      <th></th>\n",
              "      <th></th>\n",
              "      <th></th>\n",
              "      <th></th>\n",
              "      <th></th>\n",
              "      <th></th>\n",
              "      <th></th>\n",
              "      <th></th>\n",
              "      <th></th>\n",
              "      <th></th>\n",
              "      <th></th>\n",
              "      <th></th>\n",
              "      <th></th>\n",
              "      <th></th>\n",
              "      <th></th>\n",
              "      <th></th>\n",
              "      <th></th>\n",
              "      <th></th>\n",
              "      <th></th>\n",
              "      <th></th>\n",
              "      <th></th>\n",
              "      <th></th>\n",
              "      <th></th>\n",
              "      <th></th>\n",
              "      <th></th>\n",
              "      <th></th>\n",
              "      <th></th>\n",
              "      <th></th>\n",
              "      <th></th>\n",
              "      <th></th>\n",
              "      <th></th>\n",
              "      <th></th>\n",
              "      <th></th>\n",
              "      <th></th>\n",
              "      <th></th>\n",
              "      <th></th>\n",
              "      <th></th>\n",
              "      <th></th>\n",
              "      <th></th>\n",
              "    </tr>\n",
              "  </thead>\n",
              "  <tbody>\n",
              "    <tr>\n",
              "      <th>3089</th>\n",
              "      <td>NaN</td>\n",
              "      <td>NaN</td>\n",
              "      <td>NaN</td>\n",
              "      <td>NaN</td>\n",
              "      <td>4.0</td>\n",
              "      <td>NaN</td>\n",
              "      <td>NaN</td>\n",
              "      <td>NaN</td>\n",
              "      <td>NaN</td>\n",
              "      <td>NaN</td>\n",
              "      <td>NaN</td>\n",
              "      <td>NaN</td>\n",
              "      <td>NaN</td>\n",
              "      <td>NaN</td>\n",
              "      <td>NaN</td>\n",
              "      <td>NaN</td>\n",
              "      <td>NaN</td>\n",
              "      <td>NaN</td>\n",
              "      <td>NaN</td>\n",
              "      <td>NaN</td>\n",
              "      <td>NaN</td>\n",
              "      <td>NaN</td>\n",
              "      <td>NaN</td>\n",
              "      <td>NaN</td>\n",
              "      <td>NaN</td>\n",
              "      <td>NaN</td>\n",
              "      <td>NaN</td>\n",
              "      <td>NaN</td>\n",
              "      <td>NaN</td>\n",
              "      <td>NaN</td>\n",
              "      <td>NaN</td>\n",
              "      <td>NaN</td>\n",
              "      <td>NaN</td>\n",
              "      <td>NaN</td>\n",
              "      <td>NaN</td>\n",
              "      <td>NaN</td>\n",
              "      <td>NaN</td>\n",
              "      <td>NaN</td>\n",
              "      <td>NaN</td>\n",
              "      <td>NaN</td>\n",
              "      <td>...</td>\n",
              "      <td>NaN</td>\n",
              "      <td>NaN</td>\n",
              "      <td>NaN</td>\n",
              "      <td>NaN</td>\n",
              "      <td>NaN</td>\n",
              "      <td>NaN</td>\n",
              "      <td>NaN</td>\n",
              "      <td>NaN</td>\n",
              "      <td>NaN</td>\n",
              "      <td>NaN</td>\n",
              "      <td>5.0</td>\n",
              "      <td>NaN</td>\n",
              "      <td>NaN</td>\n",
              "      <td>NaN</td>\n",
              "      <td>NaN</td>\n",
              "      <td>NaN</td>\n",
              "      <td>NaN</td>\n",
              "      <td>NaN</td>\n",
              "      <td>4.0</td>\n",
              "      <td>NaN</td>\n",
              "      <td>NaN</td>\n",
              "      <td>NaN</td>\n",
              "      <td>NaN</td>\n",
              "      <td>NaN</td>\n",
              "      <td>NaN</td>\n",
              "      <td>NaN</td>\n",
              "      <td>NaN</td>\n",
              "      <td>NaN</td>\n",
              "      <td>NaN</td>\n",
              "      <td>NaN</td>\n",
              "      <td>NaN</td>\n",
              "      <td>NaN</td>\n",
              "      <td>NaN</td>\n",
              "      <td>NaN</td>\n",
              "      <td>NaN</td>\n",
              "      <td>NaN</td>\n",
              "      <td>NaN</td>\n",
              "      <td>NaN</td>\n",
              "      <td>NaN</td>\n",
              "      <td>NaN</td>\n",
              "    </tr>\n",
              "    <tr>\n",
              "      <th>3939</th>\n",
              "      <td>NaN</td>\n",
              "      <td>5.0</td>\n",
              "      <td>NaN</td>\n",
              "      <td>NaN</td>\n",
              "      <td>NaN</td>\n",
              "      <td>NaN</td>\n",
              "      <td>NaN</td>\n",
              "      <td>5.0</td>\n",
              "      <td>NaN</td>\n",
              "      <td>NaN</td>\n",
              "      <td>NaN</td>\n",
              "      <td>3.0</td>\n",
              "      <td>NaN</td>\n",
              "      <td>NaN</td>\n",
              "      <td>4.0</td>\n",
              "      <td>NaN</td>\n",
              "      <td>NaN</td>\n",
              "      <td>NaN</td>\n",
              "      <td>NaN</td>\n",
              "      <td>NaN</td>\n",
              "      <td>NaN</td>\n",
              "      <td>NaN</td>\n",
              "      <td>NaN</td>\n",
              "      <td>NaN</td>\n",
              "      <td>NaN</td>\n",
              "      <td>NaN</td>\n",
              "      <td>NaN</td>\n",
              "      <td>NaN</td>\n",
              "      <td>NaN</td>\n",
              "      <td>NaN</td>\n",
              "      <td>NaN</td>\n",
              "      <td>NaN</td>\n",
              "      <td>5.0</td>\n",
              "      <td>NaN</td>\n",
              "      <td>NaN</td>\n",
              "      <td>NaN</td>\n",
              "      <td>NaN</td>\n",
              "      <td>NaN</td>\n",
              "      <td>5.0</td>\n",
              "      <td>NaN</td>\n",
              "      <td>...</td>\n",
              "      <td>NaN</td>\n",
              "      <td>NaN</td>\n",
              "      <td>NaN</td>\n",
              "      <td>NaN</td>\n",
              "      <td>NaN</td>\n",
              "      <td>NaN</td>\n",
              "      <td>NaN</td>\n",
              "      <td>NaN</td>\n",
              "      <td>NaN</td>\n",
              "      <td>NaN</td>\n",
              "      <td>NaN</td>\n",
              "      <td>NaN</td>\n",
              "      <td>NaN</td>\n",
              "      <td>5.0</td>\n",
              "      <td>NaN</td>\n",
              "      <td>NaN</td>\n",
              "      <td>NaN</td>\n",
              "      <td>NaN</td>\n",
              "      <td>NaN</td>\n",
              "      <td>5.0</td>\n",
              "      <td>NaN</td>\n",
              "      <td>NaN</td>\n",
              "      <td>NaN</td>\n",
              "      <td>NaN</td>\n",
              "      <td>5.0</td>\n",
              "      <td>NaN</td>\n",
              "      <td>NaN</td>\n",
              "      <td>NaN</td>\n",
              "      <td>NaN</td>\n",
              "      <td>NaN</td>\n",
              "      <td>NaN</td>\n",
              "      <td>NaN</td>\n",
              "      <td>NaN</td>\n",
              "      <td>NaN</td>\n",
              "      <td>NaN</td>\n",
              "      <td>NaN</td>\n",
              "      <td>NaN</td>\n",
              "      <td>NaN</td>\n",
              "      <td>NaN</td>\n",
              "      <td>NaN</td>\n",
              "    </tr>\n",
              "    <tr>\n",
              "      <th>4934</th>\n",
              "      <td>NaN</td>\n",
              "      <td>NaN</td>\n",
              "      <td>NaN</td>\n",
              "      <td>NaN</td>\n",
              "      <td>NaN</td>\n",
              "      <td>5.0</td>\n",
              "      <td>NaN</td>\n",
              "      <td>NaN</td>\n",
              "      <td>NaN</td>\n",
              "      <td>NaN</td>\n",
              "      <td>NaN</td>\n",
              "      <td>NaN</td>\n",
              "      <td>NaN</td>\n",
              "      <td>NaN</td>\n",
              "      <td>NaN</td>\n",
              "      <td>NaN</td>\n",
              "      <td>NaN</td>\n",
              "      <td>NaN</td>\n",
              "      <td>NaN</td>\n",
              "      <td>NaN</td>\n",
              "      <td>NaN</td>\n",
              "      <td>NaN</td>\n",
              "      <td>4.0</td>\n",
              "      <td>NaN</td>\n",
              "      <td>NaN</td>\n",
              "      <td>NaN</td>\n",
              "      <td>NaN</td>\n",
              "      <td>5.0</td>\n",
              "      <td>NaN</td>\n",
              "      <td>5.0</td>\n",
              "      <td>NaN</td>\n",
              "      <td>NaN</td>\n",
              "      <td>4.0</td>\n",
              "      <td>NaN</td>\n",
              "      <td>NaN</td>\n",
              "      <td>NaN</td>\n",
              "      <td>NaN</td>\n",
              "      <td>NaN</td>\n",
              "      <td>NaN</td>\n",
              "      <td>NaN</td>\n",
              "      <td>...</td>\n",
              "      <td>NaN</td>\n",
              "      <td>NaN</td>\n",
              "      <td>NaN</td>\n",
              "      <td>NaN</td>\n",
              "      <td>NaN</td>\n",
              "      <td>NaN</td>\n",
              "      <td>NaN</td>\n",
              "      <td>NaN</td>\n",
              "      <td>NaN</td>\n",
              "      <td>NaN</td>\n",
              "      <td>NaN</td>\n",
              "      <td>NaN</td>\n",
              "      <td>NaN</td>\n",
              "      <td>NaN</td>\n",
              "      <td>NaN</td>\n",
              "      <td>NaN</td>\n",
              "      <td>NaN</td>\n",
              "      <td>NaN</td>\n",
              "      <td>NaN</td>\n",
              "      <td>NaN</td>\n",
              "      <td>NaN</td>\n",
              "      <td>NaN</td>\n",
              "      <td>3.0</td>\n",
              "      <td>4.0</td>\n",
              "      <td>NaN</td>\n",
              "      <td>NaN</td>\n",
              "      <td>NaN</td>\n",
              "      <td>NaN</td>\n",
              "      <td>NaN</td>\n",
              "      <td>NaN</td>\n",
              "      <td>NaN</td>\n",
              "      <td>NaN</td>\n",
              "      <td>NaN</td>\n",
              "      <td>NaN</td>\n",
              "      <td>NaN</td>\n",
              "      <td>NaN</td>\n",
              "      <td>NaN</td>\n",
              "      <td>NaN</td>\n",
              "      <td>NaN</td>\n",
              "      <td>NaN</td>\n",
              "    </tr>\n",
              "    <tr>\n",
              "      <th>7605</th>\n",
              "      <td>NaN</td>\n",
              "      <td>NaN</td>\n",
              "      <td>NaN</td>\n",
              "      <td>NaN</td>\n",
              "      <td>NaN</td>\n",
              "      <td>NaN</td>\n",
              "      <td>NaN</td>\n",
              "      <td>NaN</td>\n",
              "      <td>NaN</td>\n",
              "      <td>NaN</td>\n",
              "      <td>4.0</td>\n",
              "      <td>NaN</td>\n",
              "      <td>NaN</td>\n",
              "      <td>5.0</td>\n",
              "      <td>NaN</td>\n",
              "      <td>NaN</td>\n",
              "      <td>NaN</td>\n",
              "      <td>NaN</td>\n",
              "      <td>NaN</td>\n",
              "      <td>NaN</td>\n",
              "      <td>5.0</td>\n",
              "      <td>NaN</td>\n",
              "      <td>NaN</td>\n",
              "      <td>NaN</td>\n",
              "      <td>NaN</td>\n",
              "      <td>NaN</td>\n",
              "      <td>5.0</td>\n",
              "      <td>NaN</td>\n",
              "      <td>NaN</td>\n",
              "      <td>NaN</td>\n",
              "      <td>5.0</td>\n",
              "      <td>NaN</td>\n",
              "      <td>NaN</td>\n",
              "      <td>NaN</td>\n",
              "      <td>NaN</td>\n",
              "      <td>NaN</td>\n",
              "      <td>5.0</td>\n",
              "      <td>NaN</td>\n",
              "      <td>NaN</td>\n",
              "      <td>5.0</td>\n",
              "      <td>...</td>\n",
              "      <td>NaN</td>\n",
              "      <td>NaN</td>\n",
              "      <td>NaN</td>\n",
              "      <td>5.0</td>\n",
              "      <td>NaN</td>\n",
              "      <td>NaN</td>\n",
              "      <td>NaN</td>\n",
              "      <td>NaN</td>\n",
              "      <td>NaN</td>\n",
              "      <td>NaN</td>\n",
              "      <td>NaN</td>\n",
              "      <td>NaN</td>\n",
              "      <td>NaN</td>\n",
              "      <td>NaN</td>\n",
              "      <td>NaN</td>\n",
              "      <td>NaN</td>\n",
              "      <td>NaN</td>\n",
              "      <td>NaN</td>\n",
              "      <td>NaN</td>\n",
              "      <td>NaN</td>\n",
              "      <td>NaN</td>\n",
              "      <td>NaN</td>\n",
              "      <td>NaN</td>\n",
              "      <td>NaN</td>\n",
              "      <td>NaN</td>\n",
              "      <td>NaN</td>\n",
              "      <td>NaN</td>\n",
              "      <td>NaN</td>\n",
              "      <td>NaN</td>\n",
              "      <td>NaN</td>\n",
              "      <td>NaN</td>\n",
              "      <td>NaN</td>\n",
              "      <td>NaN</td>\n",
              "      <td>NaN</td>\n",
              "      <td>NaN</td>\n",
              "      <td>NaN</td>\n",
              "      <td>NaN</td>\n",
              "      <td>NaN</td>\n",
              "      <td>NaN</td>\n",
              "      <td>NaN</td>\n",
              "    </tr>\n",
              "    <tr>\n",
              "      <th>11517</th>\n",
              "      <td>NaN</td>\n",
              "      <td>NaN</td>\n",
              "      <td>NaN</td>\n",
              "      <td>NaN</td>\n",
              "      <td>NaN</td>\n",
              "      <td>NaN</td>\n",
              "      <td>NaN</td>\n",
              "      <td>NaN</td>\n",
              "      <td>NaN</td>\n",
              "      <td>NaN</td>\n",
              "      <td>NaN</td>\n",
              "      <td>NaN</td>\n",
              "      <td>NaN</td>\n",
              "      <td>NaN</td>\n",
              "      <td>NaN</td>\n",
              "      <td>NaN</td>\n",
              "      <td>NaN</td>\n",
              "      <td>NaN</td>\n",
              "      <td>4.0</td>\n",
              "      <td>NaN</td>\n",
              "      <td>NaN</td>\n",
              "      <td>NaN</td>\n",
              "      <td>NaN</td>\n",
              "      <td>NaN</td>\n",
              "      <td>NaN</td>\n",
              "      <td>NaN</td>\n",
              "      <td>NaN</td>\n",
              "      <td>NaN</td>\n",
              "      <td>NaN</td>\n",
              "      <td>3.0</td>\n",
              "      <td>NaN</td>\n",
              "      <td>NaN</td>\n",
              "      <td>NaN</td>\n",
              "      <td>NaN</td>\n",
              "      <td>NaN</td>\n",
              "      <td>NaN</td>\n",
              "      <td>NaN</td>\n",
              "      <td>NaN</td>\n",
              "      <td>NaN</td>\n",
              "      <td>NaN</td>\n",
              "      <td>...</td>\n",
              "      <td>NaN</td>\n",
              "      <td>NaN</td>\n",
              "      <td>NaN</td>\n",
              "      <td>NaN</td>\n",
              "      <td>NaN</td>\n",
              "      <td>NaN</td>\n",
              "      <td>NaN</td>\n",
              "      <td>NaN</td>\n",
              "      <td>NaN</td>\n",
              "      <td>NaN</td>\n",
              "      <td>NaN</td>\n",
              "      <td>NaN</td>\n",
              "      <td>NaN</td>\n",
              "      <td>NaN</td>\n",
              "      <td>NaN</td>\n",
              "      <td>NaN</td>\n",
              "      <td>NaN</td>\n",
              "      <td>NaN</td>\n",
              "      <td>NaN</td>\n",
              "      <td>NaN</td>\n",
              "      <td>NaN</td>\n",
              "      <td>NaN</td>\n",
              "      <td>NaN</td>\n",
              "      <td>NaN</td>\n",
              "      <td>NaN</td>\n",
              "      <td>NaN</td>\n",
              "      <td>NaN</td>\n",
              "      <td>NaN</td>\n",
              "      <td>NaN</td>\n",
              "      <td>5.0</td>\n",
              "      <td>NaN</td>\n",
              "      <td>5.0</td>\n",
              "      <td>NaN</td>\n",
              "      <td>NaN</td>\n",
              "      <td>NaN</td>\n",
              "      <td>NaN</td>\n",
              "      <td>NaN</td>\n",
              "      <td>NaN</td>\n",
              "      <td>5.0</td>\n",
              "      <td>NaN</td>\n",
              "    </tr>\n",
              "  </tbody>\n",
              "</table>\n",
              "<p>5 rows × 525 columns</p>\n",
              "</div>"
            ],
            "text/plain": [
              "item_id  2     17    75    79    137   214   ...  8466  8471  8496  8584  8682  8841\n",
              "user_id                                      ...                                    \n",
              "3089      NaN   NaN   NaN   NaN   4.0   NaN  ...   NaN   NaN   NaN   NaN   NaN   NaN\n",
              "3939      NaN   5.0   NaN   NaN   NaN   NaN  ...   NaN   NaN   NaN   NaN   NaN   NaN\n",
              "4934      NaN   NaN   NaN   NaN   NaN   5.0  ...   NaN   NaN   NaN   NaN   NaN   NaN\n",
              "7605      NaN   NaN   NaN   NaN   NaN   NaN  ...   NaN   NaN   NaN   NaN   NaN   NaN\n",
              "11517     NaN   NaN   NaN   NaN   NaN   NaN  ...   NaN   NaN   NaN   NaN   5.0   NaN\n",
              "\n",
              "[5 rows x 525 columns]"
            ]
          },
          "metadata": {
            "tags": []
          },
          "execution_count": 93
        }
      ]
    },
    {
      "cell_type": "markdown",
      "metadata": {
        "id": "a-rzDSzFyZE5"
      },
      "source": [
        "Finally we define a function that takes in productId and useId as input and outputs up to 5 most similar products. For this purpose, we use corrwith() method to compute pairwise correlation between columns of dataFrame and calculate Pearson correlation coefficients."
      ]
    },
    {
      "cell_type": "code",
      "metadata": {
        "id": "xrhY2X8iyaSx"
      },
      "source": [
        "def hybrid_recommendations(user_id, item_id):\n",
        "    top_five=matrix.corrwith(matrix[item_id]).sort_values(ascending=False).head(5)\n",
        "\n",
        "    est_rating=[]\n",
        "    for x in list(top_five.index):\n",
        "        if str(top_five[x])=='nan':\n",
        "            est_rating.append(algo.predict(user_id, iid=x, r_ui=None).est)        \n",
        "    return pd.DataFrame({'item_id':list(top_five.index)[:len(est_rating)], 'estimated_rating':est_rating}).sort_values(by='estimated_rating', ascending=False).reset_index(drop=True);"
      ],
      "execution_count": 117,
      "outputs": []
    },
    {
      "cell_type": "markdown",
      "metadata": {
        "id": "P7q-au34ykNS"
      },
      "source": [
        "Thus, this hybrid recommendor would give us similar products.\n",
        "\n",
        "**INPUT**\n",
        "\n",
        "We check the performance of the Recommendor by giving inputs of user and product."
      ]
    },
    {
      "cell_type": "code",
      "metadata": {
        "colab": {
          "base_uri": "https://localhost:8080/",
          "height": 292
        },
        "id": "BFzT0-UNzC64",
        "outputId": "35f3b9c5-093f-4efc-977b-af3834570962"
      },
      "source": [
        "hybrid_recommendations(12,75)"
      ],
      "execution_count": 118,
      "outputs": [
        {
          "output_type": "stream",
          "text": [
            "/usr/local/lib/python3.7/dist-packages/numpy/lib/function_base.py:2551: RuntimeWarning: Degrees of freedom <= 0 for slice\n",
            "  c = cov(x, y, rowvar)\n",
            "/usr/local/lib/python3.7/dist-packages/numpy/lib/function_base.py:2480: RuntimeWarning: divide by zero encountered in true_divide\n",
            "  c *= np.true_divide(1, fact)\n"
          ],
          "name": "stderr"
        },
        {
          "output_type": "execute_result",
          "data": {
            "text/html": [
              "<div>\n",
              "<style scoped>\n",
              "    .dataframe tbody tr th:only-of-type {\n",
              "        vertical-align: middle;\n",
              "    }\n",
              "\n",
              "    .dataframe tbody tr th {\n",
              "        vertical-align: top;\n",
              "    }\n",
              "\n",
              "    .dataframe thead th {\n",
              "        text-align: right;\n",
              "    }\n",
              "</style>\n",
              "<table border=\"1\" class=\"dataframe\">\n",
              "  <thead>\n",
              "    <tr style=\"text-align: right;\">\n",
              "      <th></th>\n",
              "      <th>item_id</th>\n",
              "      <th>estimated_rating</th>\n",
              "    </tr>\n",
              "  </thead>\n",
              "  <tbody>\n",
              "    <tr>\n",
              "      <th>0</th>\n",
              "      <td>79</td>\n",
              "      <td>4.929761</td>\n",
              "    </tr>\n",
              "    <tr>\n",
              "      <th>1</th>\n",
              "      <td>2</td>\n",
              "      <td>4.758702</td>\n",
              "    </tr>\n",
              "    <tr>\n",
              "      <th>2</th>\n",
              "      <td>17</td>\n",
              "      <td>3.669794</td>\n",
              "    </tr>\n",
              "    <tr>\n",
              "      <th>3</th>\n",
              "      <td>75</td>\n",
              "      <td>3.513041</td>\n",
              "    </tr>\n",
              "    <tr>\n",
              "      <th>4</th>\n",
              "      <td>137</td>\n",
              "      <td>3.266531</td>\n",
              "    </tr>\n",
              "  </tbody>\n",
              "</table>\n",
              "</div>"
            ],
            "text/plain": [
              "   item_id  estimated_rating\n",
              "0       79          4.929761\n",
              "1        2          4.758702\n",
              "2       17          3.669794\n",
              "3       75          3.513041\n",
              "4      137          3.266531"
            ]
          },
          "metadata": {
            "tags": []
          },
          "execution_count": 118
        }
      ]
    },
    {
      "cell_type": "markdown",
      "metadata": {
        "id": "PvdP01JN4GzA"
      },
      "source": [
        "CONCLUSION:\n",
        "\n",
        "We built recommendation system for electronics using Collaborative Filtering and Hybrid Engine."
      ]
    },
    {
      "cell_type": "markdown",
      "metadata": {
        "id": "Irh2gNw44T7f"
      },
      "source": [
        "**MODCLOTH DATASET RECOMMENDATION SYSTEM**-"
      ]
    },
    {
      "cell_type": "code",
      "metadata": {
        "colab": {
          "base_uri": "https://localhost:8080/",
          "height": 204
        },
        "id": "D4eLENqP5Qz_",
        "outputId": "70c7879a-db50-4ac0-bf9b-9525fc463d9a"
      },
      "source": [
        "Trialdf = clothdf[['item_id','rating','user_id']]\n",
        "Trialdf.head()"
      ],
      "execution_count": 119,
      "outputs": [
        {
          "output_type": "execute_result",
          "data": {
            "text/html": [
              "<div>\n",
              "<style scoped>\n",
              "    .dataframe tbody tr th:only-of-type {\n",
              "        vertical-align: middle;\n",
              "    }\n",
              "\n",
              "    .dataframe tbody tr th {\n",
              "        vertical-align: top;\n",
              "    }\n",
              "\n",
              "    .dataframe thead th {\n",
              "        text-align: right;\n",
              "    }\n",
              "</style>\n",
              "<table border=\"1\" class=\"dataframe\">\n",
              "  <thead>\n",
              "    <tr style=\"text-align: right;\">\n",
              "      <th></th>\n",
              "      <th>item_id</th>\n",
              "      <th>rating</th>\n",
              "      <th>user_id</th>\n",
              "    </tr>\n",
              "  </thead>\n",
              "  <tbody>\n",
              "    <tr>\n",
              "      <th>0</th>\n",
              "      <td>7443</td>\n",
              "      <td>4</td>\n",
              "      <td>Alex</td>\n",
              "    </tr>\n",
              "    <tr>\n",
              "      <th>1</th>\n",
              "      <td>7443</td>\n",
              "      <td>3</td>\n",
              "      <td>carolyn.agan</td>\n",
              "    </tr>\n",
              "    <tr>\n",
              "      <th>2</th>\n",
              "      <td>7443</td>\n",
              "      <td>4</td>\n",
              "      <td>Robyn</td>\n",
              "    </tr>\n",
              "    <tr>\n",
              "      <th>3</th>\n",
              "      <td>7443</td>\n",
              "      <td>4</td>\n",
              "      <td>De</td>\n",
              "    </tr>\n",
              "    <tr>\n",
              "      <th>4</th>\n",
              "      <td>7443</td>\n",
              "      <td>4</td>\n",
              "      <td>tasha</td>\n",
              "    </tr>\n",
              "  </tbody>\n",
              "</table>\n",
              "</div>"
            ],
            "text/plain": [
              "   item_id  rating       user_id\n",
              "0     7443       4          Alex\n",
              "1     7443       3  carolyn.agan\n",
              "2     7443       4         Robyn\n",
              "3     7443       4            De\n",
              "4     7443       4         tasha"
            ]
          },
          "metadata": {
            "tags": []
          },
          "execution_count": 119
        }
      ]
    },
    {
      "cell_type": "code",
      "metadata": {
        "colab": {
          "base_uri": "https://localhost:8080/"
        },
        "id": "lGiyJ5wK5dMn",
        "outputId": "a45197a2-3891-4f01-9b99-a4248da164e4"
      },
      "source": [
        "Trialdf.isnull().sum()"
      ],
      "execution_count": 120,
      "outputs": [
        {
          "output_type": "execute_result",
          "data": {
            "text/plain": [
              "item_id    0\n",
              "rating     0\n",
              "user_id    1\n",
              "dtype: int64"
            ]
          },
          "metadata": {
            "tags": []
          },
          "execution_count": 120
        }
      ]
    },
    {
      "cell_type": "code",
      "metadata": {
        "colab": {
          "base_uri": "https://localhost:8080/",
          "height": 391
        },
        "id": "k3A2Rvru5jm-",
        "outputId": "6dd4e2c1-f44f-44df-91a1-7bf735173f65"
      },
      "source": [
        "sns.pairplot(Trialdf)"
      ],
      "execution_count": 121,
      "outputs": [
        {
          "output_type": "execute_result",
          "data": {
            "text/plain": [
              "<seaborn.axisgrid.PairGrid at 0x7f2b6096b790>"
            ]
          },
          "metadata": {
            "tags": []
          },
          "execution_count": 121
        },
        {
          "output_type": "display_data",
          "data": {
            "image/png": "[encoded data removed]",
            "text/plain": [
              "<Figure size 360x360 with 6 Axes>"
            ]
          },
          "metadata": {
            "tags": [],
            "needs_background": "light"
          }
        }
      ]
    },
    {
      "cell_type": "code",
      "metadata": {
        "colab": {
          "base_uri": "https://localhost:8080/",
          "height": 297
        },
        "id": "Jl1QrLN85t4G",
        "outputId": "de2ec4cb-4a20-4bb8-bacc-01dab3b5bb50"
      },
      "source": [
        "Trialdf.describe()"
      ],
      "execution_count": 122,
      "outputs": [
        {
          "output_type": "execute_result",
          "data": {
            "text/html": [
              "<div>\n",
              "<style scoped>\n",
              "    .dataframe tbody tr th:only-of-type {\n",
              "        vertical-align: middle;\n",
              "    }\n",
              "\n",
              "    .dataframe tbody tr th {\n",
              "        vertical-align: top;\n",
              "    }\n",
              "\n",
              "    .dataframe thead th {\n",
              "        text-align: right;\n",
              "    }\n",
              "</style>\n",
              "<table border=\"1\" class=\"dataframe\">\n",
              "  <thead>\n",
              "    <tr style=\"text-align: right;\">\n",
              "      <th></th>\n",
              "      <th>item_id</th>\n",
              "      <th>rating</th>\n",
              "    </tr>\n",
              "  </thead>\n",
              "  <tbody>\n",
              "    <tr>\n",
              "      <th>count</th>\n",
              "      <td>99893.000000</td>\n",
              "      <td>99893.000000</td>\n",
              "    </tr>\n",
              "    <tr>\n",
              "      <th>mean</th>\n",
              "      <td>83944.091208</td>\n",
              "      <td>4.209594</td>\n",
              "    </tr>\n",
              "    <tr>\n",
              "      <th>std</th>\n",
              "      <td>43558.135979</td>\n",
              "      <td>1.080633</td>\n",
              "    </tr>\n",
              "    <tr>\n",
              "      <th>min</th>\n",
              "      <td>6454.000000</td>\n",
              "      <td>1.000000</td>\n",
              "    </tr>\n",
              "    <tr>\n",
              "      <th>25%</th>\n",
              "      <td>48629.000000</td>\n",
              "      <td>4.000000</td>\n",
              "    </tr>\n",
              "    <tr>\n",
              "      <th>50%</th>\n",
              "      <td>77878.000000</td>\n",
              "      <td>5.000000</td>\n",
              "    </tr>\n",
              "    <tr>\n",
              "      <th>75%</th>\n",
              "      <td>120126.000000</td>\n",
              "      <td>5.000000</td>\n",
              "    </tr>\n",
              "    <tr>\n",
              "      <th>max</th>\n",
              "      <td>155950.000000</td>\n",
              "      <td>5.000000</td>\n",
              "    </tr>\n",
              "  </tbody>\n",
              "</table>\n",
              "</div>"
            ],
            "text/plain": [
              "             item_id        rating\n",
              "count   99893.000000  99893.000000\n",
              "mean    83944.091208      4.209594\n",
              "std     43558.135979      1.080633\n",
              "min      6454.000000      1.000000\n",
              "25%     48629.000000      4.000000\n",
              "50%     77878.000000      5.000000\n",
              "75%    120126.000000      5.000000\n",
              "max    155950.000000      5.000000"
            ]
          },
          "metadata": {
            "tags": []
          },
          "execution_count": 122
        }
      ]
    },
    {
      "cell_type": "code",
      "metadata": {
        "id": "WPKmDGo551u_"
      },
      "source": [
        "#Read in values as Surprise dataset\n",
        "reader = Reader(rating_scale=(1, 5))\n",
        "data = Dataset.load_from_df(Trialdf[['user_id', 'item_id', 'rating']], reader)"
      ],
      "execution_count": 124,
      "outputs": []
    },
    {
      "cell_type": "code",
      "metadata": {
        "id": "0YSfKkHN5-pm"
      },
      "source": [
        "#Split for training and testing\n",
        "from surprise.model_selection.split import train_test_split\n",
        "trainset, testset = train_test_split(data,test_size=0.2)"
      ],
      "execution_count": 126,
      "outputs": []
    },
    {
      "cell_type": "code",
      "metadata": {
        "colab": {
          "base_uri": "https://localhost:8080/"
        },
        "id": "B4TmHI8X6KOm",
        "outputId": "6499e66a-5023-4231-f4f2-00aa2a7b38af"
      },
      "source": [
        "dataset = data.build_full_trainset()\n",
        "print('Number of users: ',dataset.n_users,'\\n')\n",
        "print('Number of items: ',dataset.n_items)"
      ],
      "execution_count": 128,
      "outputs": [
        {
          "output_type": "stream",
          "text": [
            "Number of users:  44784 \n",
            "\n",
            "Number of items:  1020\n"
          ],
          "name": "stdout"
        }
      ]
    },
    {
      "cell_type": "code",
      "metadata": {
        "colab": {
          "base_uri": "https://localhost:8080/"
        },
        "id": "rbxlF9eT6SZ5",
        "outputId": "77818565-242d-4712-c22b-28180db6a9fe"
      },
      "source": [
        "#Sparsity of dataset\n",
        "82722/(32399*1376)"
      ],
      "execution_count": 129,
      "outputs": [
        {
          "output_type": "execute_result",
          "data": {
            "text/plain": [
              "0.001855542842622906"
            ]
          },
          "metadata": {
            "tags": []
          },
          "execution_count": 129
        }
      ]
    },
    {
      "cell_type": "code",
      "metadata": {
        "colab": {
          "base_uri": "https://localhost:8080/"
        },
        "id": "hWVM1dkq6v4v",
        "outputId": "e77fc4c6-0abc-4c4a-b292-2238304f005b"
      },
      "source": [
        "\n",
        "#Setting up two Metrics\n",
        "sim_cos = {'name':'cosine','user_based':False}\n",
        "sim_pearson = {'name':'pearson','user_based':False}\n",
        "\n",
        "\n",
        "#Checking out Memory-Based Method (Neighborhood-Based)\n",
        "# KNNBasic (using Cosine similarity as a metric)\n",
        "basic = knns.KNNBasic(sim_options=sim_cos)\n",
        "basic.fit(trainset)\n",
        "predictions = basic.test(testset)\n",
        "print(accuracy.rmse(predictions))\n"
      ],
      "execution_count": 135,
      "outputs": [
        {
          "output_type": "stream",
          "text": [
            "Computing the cosine similarity matrix...\n",
            "Done computing similarity matrix.\n",
            "RMSE: 1.1569\n",
            "1.1568766479662103\n"
          ],
          "name": "stdout"
        }
      ]
    },
    {
      "cell_type": "code",
      "metadata": {
        "colab": {
          "base_uri": "https://localhost:8080/"
        },
        "id": "mgLyzrgj7T82",
        "outputId": "d92b4eba-e9bb-45c4-d328-bb1b7467c171"
      },
      "source": [
        "#KNNBasic (using Pearson similarity as a metric)\n",
        "basic_pearson = knns.KNNBasic(sim_options=sim_pearson)\n",
        "basic_pearson.fit(trainset)\n",
        "predictions = basic_pearson.test(testset)\n",
        "print(accuracy.rmse(predictions))"
      ],
      "execution_count": 136,
      "outputs": [
        {
          "output_type": "stream",
          "text": [
            "Computing the pearson similarity matrix...\n",
            "Done computing similarity matrix.\n",
            "RMSE: 1.1746\n",
            "1.1745532780023356\n"
          ],
          "name": "stdout"
        }
      ]
    },
    {
      "cell_type": "code",
      "metadata": {
        "colab": {
          "base_uri": "https://localhost:8080/"
        },
        "id": "31Yf-mJg7jeZ",
        "outputId": "24d18778-e1d4-4fa1-c2a7-efcbb152d002"
      },
      "source": [
        "#GridSearch on SVD with different n_factors and reg_all\n",
        "param_grid = {'n_factors':[20,30],'n_epochs': [5, 10], 'lr_all': [0.002, 0.005], 'reg_all': [0.2, 0.6]}\n",
        "gs_modelA = GridSearchCV(SVD,param_grid=param_grid,n_jobs = -1,joblib_verbose=5)\n",
        "gs_modelA.fit(data)\n",
        "gs_modelA.best_params\n",
        "#Looks like 10 n_factors with"
      ],
      "execution_count": 138,
      "outputs": [
        {
          "output_type": "stream",
          "text": [
            "[Parallel(n_jobs=-1)]: Using backend LokyBackend with 2 concurrent workers.\n",
            "[Parallel(n_jobs=-1)]: Done  14 tasks      | elapsed:   34.3s\n",
            "[Parallel(n_jobs=-1)]: Done  68 tasks      | elapsed:  2.9min\n",
            "[Parallel(n_jobs=-1)]: Done  80 out of  80 | elapsed:  3.4min finished\n"
          ],
          "name": "stderr"
        },
        {
          "output_type": "execute_result",
          "data": {
            "text/plain": [
              "{'mae': {'lr_all': 0.005, 'n_epochs': 10, 'n_factors': 20, 'reg_all': 0.2},\n",
              " 'rmse': {'lr_all': 0.005, 'n_epochs': 10, 'n_factors': 30, 'reg_all': 0.2}}"
            ]
          },
          "metadata": {
            "tags": []
          },
          "execution_count": 138
        }
      ]
    },
    {
      "cell_type": "code",
      "metadata": {
        "colab": {
          "base_uri": "https://localhost:8080/"
        },
        "id": "Swv9ImWk8QeV",
        "outputId": "e03946ee-0691-496e-a1fb-941933981143"
      },
      "source": [
        "\n",
        "gs_modelA.best_score"
      ],
      "execution_count": 139,
      "outputs": [
        {
          "output_type": "execute_result",
          "data": {
            "text/plain": [
              "{'mae': 0.8236818610917498, 'rmse': 1.0429524861334063}"
            ]
          },
          "metadata": {
            "tags": []
          },
          "execution_count": 139
        }
      ]
    },
    {
      "cell_type": "code",
      "metadata": {
        "colab": {
          "base_uri": "https://localhost:8080/"
        },
        "id": "La3LLetM8cOe",
        "outputId": "4529e35f-9961-49e7-8d0d-afd10631c8e2"
      },
      "source": [
        "#By trying multiple grid searches we get\n",
        "#just decreasing reg_all to 0.2\n",
        "svd = SVD(n_factors=20,n_epochs=10,lr_all=0.005,reg_all=0.2)\n",
        "svd.fit(trainset)\n",
        "predictions = svd.test(testset)\n",
        "print(accuracy.rmse(predictions))\n",
        "#WINS with best parameters for our SVD model's performance"
      ],
      "execution_count": 140,
      "outputs": [
        {
          "output_type": "stream",
          "text": [
            "RMSE: 1.0358\n",
            "1.0358452047077413\n"
          ],
          "name": "stdout"
        }
      ]
    },
    {
      "cell_type": "markdown",
      "metadata": {
        "id": "vXGDd54x8wrp"
      },
      "source": [
        "INPUT:\n",
        "now we try random input to our model "
      ]
    },
    {
      "cell_type": "code",
      "metadata": {
        "colab": {
          "base_uri": "https://localhost:8080/"
        },
        "id": "UiofHtEl87_e",
        "outputId": "22e38e6c-9592-4b18-c458-9ef47eb0c92b"
      },
      "source": [
        "user_34_prediction = svd.predict('De',7443)\n",
        "user_34_prediction"
      ],
      "execution_count": 141,
      "outputs": [
        {
          "output_type": "execute_result",
          "data": {
            "text/plain": [
              "Prediction(uid='De', iid=7443, r_ui=None, est=3.847265446956417, details={'was_impossible': False})"
            ]
          },
          "metadata": {
            "tags": []
          },
          "execution_count": 141
        }
      ]
    },
    {
      "cell_type": "code",
      "metadata": {
        "colab": {
          "base_uri": "https://localhost:8080/"
        },
        "id": "1DlOUMzO9FX1",
        "outputId": "11070b99-29c6-4dc4-d35f-a4c6e916c1ab"
      },
      "source": [
        "user_70_prediction = svd.predict('De',11960)\n",
        "user_70_prediction"
      ],
      "execution_count": 142,
      "outputs": [
        {
          "output_type": "execute_result",
          "data": {
            "text/plain": [
              "Prediction(uid='De', iid=11960, r_ui=None, est=4.094315753628699, details={'was_impossible': False})"
            ]
          },
          "metadata": {
            "tags": []
          },
          "execution_count": 142
        }
      ]
    },
    {
      "cell_type": "markdown",
      "metadata": {
        "id": "aOHzGE9L9KYO"
      },
      "source": [
        "We can see that user 'De' will prefer item 11960 more than 7443"
      ]
    },
    {
      "cell_type": "markdown",
      "metadata": {
        "id": "dBwMNx3H9TgV"
      },
      "source": [
        "BIAS DETECTION\n",
        "\n",
        "Attached paper 'Addressing Marketing Bias in Product Recommendations'pdf swhich I foud online shows that there is Marketing Bias with Product Selction as well as Consumer Satisfaction. "
      ]
    }
  ]
}